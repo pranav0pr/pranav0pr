{
 "cells": [
  {
   "cell_type": "markdown",
   "id": "4be11911-bbd7-4f41-b0f6-3e8a6df65002",
   "metadata": {},
   "source": [
    "#oops concept\n",
    "this keyword-->self keyword\n",
    "init function-->constructor"
   ]
  },
  {
   "cell_type": "code",
   "execution_count": 12,
   "id": "b9981d33-24ff-434c-bc6d-1ff1e2986b5a",
   "metadata": {},
   "outputs": [
    {
     "ename": "TypeError",
     "evalue": "laptop() takes no arguments",
     "output_type": "error",
     "traceback": [
      "\u001b[1;31m---------------------------------------------------------------------------\u001b[0m",
      "\u001b[1;31mTypeError\u001b[0m                                 Traceback (most recent call last)",
      "Cell \u001b[1;32mIn[12], line 7\u001b[0m\n\u001b[0;32m      5\u001b[0m     \u001b[38;5;28;01mdef\u001b[39;00m \u001b[38;5;21m_init_\u001b[39m(\u001b[38;5;28mself\u001b[39m,value):\n\u001b[0;32m      6\u001b[0m         \u001b[38;5;28mself\u001b[39m\u001b[38;5;241m.\u001b[39mb\u001b[38;5;241m=\u001b[39mvalue\n\u001b[1;32m----> 7\u001b[0m acer\u001b[38;5;241m=\u001b[39m \u001b[43mlaptop\u001b[49m\u001b[43m(\u001b[49m\u001b[38;5;241;43m20\u001b[39;49m\u001b[43m)\u001b[49m\n\u001b[0;32m      8\u001b[0m \u001b[38;5;28mprint\u001b[39m(acer\u001b[38;5;241m.\u001b[39ma)\n\u001b[0;32m      9\u001b[0m \u001b[38;5;28mprint\u001b[39m(acer\u001b[38;5;241m.\u001b[39mb)\n",
      "\u001b[1;31mTypeError\u001b[0m: laptop() takes no arguments"
     ]
    }
   ],
   "source": [
    "class laptop:\n",
    "    a=0      #class/global variable\n",
    "    def config(self):\n",
    "        print(\"this laptop has i5 8gb ram 1tb ssd\")\n",
    "    def _init_(self,value):\n",
    "        self.b=value\n",
    "        \n",
    "acer= laptop(20)\n",
    "\n",
    "print(acer.a)\n",
    "print(acer.b)\n"
   ]
  },
  {
   "cell_type": "code",
   "execution_count": 25,
   "id": "1823dafe-0b00-460e-97f4-380d312c9184",
   "metadata": {},
   "outputs": [
    {
     "ename": "SyntaxError",
     "evalue": "invalid non-printable character U+00A0 (2170686034.py, line 18)",
     "output_type": "error",
     "traceback": [
      "\u001b[1;36m  Cell \u001b[1;32mIn[25], line 18\u001b[1;36m\u001b[0m\n\u001b[1;33m    hp.config()\u001b[0m\n\u001b[1;37m    ^\u001b[0m\n\u001b[1;31mSyntaxError\u001b[0m\u001b[1;31m:\u001b[0m invalid non-printable character U+00A0\n"
     ]
    }
   ],
   "source": [
    "# Create a laptop class with variable as processor,Ram and storage\n",
    "#Create function to print the configuration of the laptops.\n",
    "#reate 3 objects of laptop with different brand and display its configuration\n",
    "\n",
    "class laptop():\n",
    "    def init(self,p,r,s):\n",
    "        self.processor=p\n",
    "        self.ram=r\n",
    "        self.storage=s\n",
    "    def config(self):\n",
    "        print(\"configuration of the laptop is:\")\n",
    "        print(\"processor\",self.processor)\n",
    "        print(\"ram\",self.ram)\n",
    "        print(\"storage\",self.storage)\n",
    "\n",
    "if __ name__==__\"main__\":\n",
    "    hp=laptop(\"i5\",16,512)\n",
    "    hp.config()"
   ]
  },
  {
   "cell_type": "code",
   "execution_count": null,
   "id": "85a35dc5-1ab3-41f8-9858-c19f16b747a6",
   "metadata": {},
   "outputs": [],
   "source": [
    "#create a class student which holds the marks in  five subjects and also create a functions to print the marks and calculate the average of 5 subjects\n",
    "\n",
    "class student():\n",
    "    def init(self,e,b,d,j,o):\n",
    "            self.english=e\n",
    "            self.biology=b\n",
    "            self.dsa=d\n",
    "            self.java=j\n",
    "            self.os=o\n",
    "    def marks(self):\n",
    "        print(\"Marks of five subjects are: \")\n",
    "        print(\"english\",self.english)\n",
    "        print(\"biology\",self.biology)\n",
    "        print(\"dsa\",self.dsa)\n",
    "        print(\"java\",self.java)\n",
    "        print(\"osh\",self.os)\n",
    "\n",
    "if __name__==__\"main__\":\n",
    "      = student(\n",
    "        \n",
    "            "
   ]
  },
  {
   "cell_type": "code",
   "execution_count": 30,
   "id": "c5e55e49-fb73-4985-acd5-f9e191f50f0d",
   "metadata": {},
   "outputs": [
    {
     "name": "stdout",
     "output_type": "stream",
     "text": [
      "Marks of  five subjects: \n",
      "Average marks of five subjects: \n"
     ]
    }
   ],
   "source": [
    "class Student:\n",
    "    def __init__(self, name, marks):\n",
    "        self.name = name\n",
    "        self.marks = marks\n",
    "\n",
    "    def print_marks(self):\n",
    "        print(\"Marks of  five subjects: \" )\n",
    "\n",
    "    def calculate_average(self):\n",
    "        total_marks = sum(self.marks)\n",
    "        average = total_marks / len(self.marks)\n",
    "        return average\n",
    "\n",
    "student1 = Student(\"Pavan\", [85, 90, 92, 88, 89])\n",
    "student1.print_marks()\n",
    "average_marks = student1.calculate_average()\n",
    "print(f\"Average marks of five subjects: \")\n"
   ]
  },
  {
   "cell_type": "code",
   "execution_count": 38,
   "id": "afc86dff-4ab1-4bed-a857-9d4990b97a9d",
   "metadata": {},
   "outputs": [
    {
     "name": "stdout",
     "output_type": "stream",
     "text": [
      "Marks of Pavan: [85, 90, 92, 88, 89]\n",
      "Average marks of student1.name: average_marks\n"
     ]
    }
   ],
   "source": [
    "class Student:\n",
    "    def __init__(self, name, marks):\n",
    "        self.name = name\n",
    "        self.marks = marks\n",
    "\n",
    "    def print_marks(self):\n",
    "        print(f\"Marks of {self.name}: {self.marks}\")\n",
    "\n",
    "    def calculate_average(self):\n",
    "        total_marks = sum(self.marks)\n",
    "        average = total_marks / len(self.marks)\n",
    "        return average\n",
    "\n",
    "student1 = Student(\"Pavan\", [85, 90, 92, 88, 89])\n",
    "student1.print_marks()\n",
    "average_marks = student1.calculate_average()\n",
    "print(\"Average marks of student1.name: average_marks\")\n"
   ]
  },
  {
   "cell_type": "markdown",
   "id": "54ed0bfb-9ab6-4223-8afd-1849959bf2e6",
   "metadata": {},
   "source": [
    "#access modifiers\n",
    "#public -->normal\n",
    "#protected-->_\n",
    "#private-->__\n",
    "#super keyword-->call function of super classes"
   ]
  },
  {
   "cell_type": "code",
   "execution_count": 44,
   "id": "05d5a9ed-4018-4377-b834-4d4acab2cfd7",
   "metadata": {},
   "outputs": [
    {
     "name": "stdout",
     "output_type": "stream",
     "text": [
      "1\n",
      "2\n",
      "3\n"
     ]
    }
   ],
   "source": [
    "class demo:\n",
    "    def __init__(self,a,b,c):\n",
    "        self.x=a\n",
    "        self._y=b\n",
    "        self.__z=c\n",
    "    def output_z(self):\n",
    "        print(self.__z)\n",
    "    def output_x(self):\n",
    "        print(self.x)\n",
    "    def output_y(self):\n",
    "        print(self._y)\n",
    "ob1=demo(1,2,3)\n",
    "ob1.output_x()\n",
    "ob1.output_y()\n",
    "ob1.output_z()\n",
    "\n",
    "\n"
   ]
  },
  {
   "cell_type": "code",
   "execution_count": 47,
   "id": "382d5293-6ea9-4cb0-bf7b-4f33d5fa442b",
   "metadata": {},
   "outputs": [
    {
     "name": "stdout",
     "output_type": "stream",
     "text": [
      "1\n",
      "2\n",
      "3\n",
      "Public variable:  1\n"
     ]
    }
   ],
   "source": [
    "class demo:\n",
    "    def __init__(self,a,b,c):\n",
    "        self.x=a\n",
    "        self._y=b\n",
    "        self.__z=c\n",
    "    def output_z(self):\n",
    "        print(self.__z)\n",
    "    def output_x(self):\n",
    "        print(self.x)\n",
    "    def output_y(self):\n",
    "        print(self._y)\n",
    "ob1=demo(1,2,3)\n",
    "ob1.output_x()\n",
    "ob1.output_y()\n",
    "ob1.output_z()\n",
    "\n",
    "print(\"Public variable: \",ob1.x)\n"
   ]
  },
  {
   "cell_type": "code",
   "execution_count": 54,
   "id": "c2770c23-eb8e-4825-92f1-0090b31e1a0c",
   "metadata": {},
   "outputs": [
    {
     "name": "stdout",
     "output_type": "stream",
     "text": [
      "constructor of class c\n",
      "self.x,self.y\n"
     ]
    }
   ],
   "source": [
    "class c:\n",
    "    def __init__(self,a=20,b=10):\n",
    "        print(\"constructor of class c\")\n",
    "        self.x=a\n",
    "        self.y=b\n",
    "        print(\"self.x,self.y\")\n",
    "         \n",
    "ob=c()\n"
   ]
  },
  {
   "cell_type": "code",
   "execution_count": null,
   "id": "b1f5159c-29f6-491f-972b-a673e2b4cd95",
   "metadata": {},
   "outputs": [],
   "source": [
    " class laptop():\n",
    "     def __init__(self,p,r,s):\n",
    "        self.processor=p\n",
    "        self.ram=r\n",
    "        self.storage=s\n",
    "\n",
    "class prof_laptop(laptop):\n",
    "    def __init__(self,bat,p,r,s):\n",
    "        self.battery=bat\n",
    "        super().__init__(p,r,s)\n",
    "\n",
    "class gaming_laptop(prof_laptop):\n",
    "     def __init__(self,graph,p,r,s):\n",
    "        self.graphic=graph\n",
    "        super().__init__(p,r,s)\n",
    "    \n",
    "pro1=prof_laptop(\"6hrs\",\"i5\",8,512)\n",
    "gam1=gaming(2,\"i5\",8,512)\n",
    "\n",
    "print(\"Professional laptop having\",pro1.processor,pro1.ram,pro1.storage,pro1.battery)\n",
    "print(\"Gaming laptop having\",gam1.processor,gam1.ram,gam1.storage,gam1.battery)\n",
    "         "
   ]
  },
  {
   "cell_type": "code",
   "execution_count": 58,
   "id": "1d42388a-97a9-4e6a-869d-097e2fbe6dde",
   "metadata": {},
   "outputs": [
    {
     "name": "stdout",
     "output_type": "stream",
     "text": [
      "Professional laptop having i5 8 512 6hrs\n",
      "Gaming laptop having i5 8 512 6hrs\n"
     ]
    }
   ],
   "source": [
    "class Laptop():\n",
    "    def __init__(self, p, r, s):\n",
    "        self.processor = p\n",
    "        self.ram = r\n",
    "        self.storage = s\n",
    "\n",
    "class ProfLaptop(Laptop):\n",
    "    def __init__(self, bat, p, r, s):\n",
    "        self.battery = bat\n",
    "        super().__init__(p, r, s)\n",
    "\n",
    "class GamingLaptop(ProfLaptop):\n",
    "    def __init__(self, graph, p, r, s):\n",
    "        self.graphic = graph\n",
    "        super().__init__(\"6hrs\", p, r, s)  # Assuming professional laptops have a standard 6hrs battery life\n",
    "\n",
    "pro1 = ProfLaptop(\"6hrs\", \"i5\", 8, 512)\n",
    "gam1 = GamingLaptop(2, \"i5\", 8, 512)\n",
    "\n",
    "print(\"Professional laptop having\", pro1.processor, pro1.ram, pro1.storage, pro1.battery)\n",
    "print(\"Gaming laptop having\", gam1.processor, gam1.ram, gam1.storage, gam1.battery)\n"
   ]
  },
  {
   "cell_type": "markdown",
   "id": "a5e64834-0d25-4424-8deb-b789744c8d62",
   "metadata": {},
   "source": [
    "#Write a program to demonstrate the working of a railway ticket booking.\n",
    "#Create required classes like t-icket class,general ticket class,sleeper ticket class,ac ticket,first class tickeet.\n",
    "#show the uses of inheritance in this and create a proper ticket booking model for indian railway.\n",
    "#after booking the ticket you have to show the final ticket price to the customer.\n",
    "#consider only 3 source and destination as:A 500kms | B 600kms C 400kms.\n",
    "#Booking charges:50  Distance Charges:2/km | sleeper charges:2/km | AC charges:4/km | first class charges:5/km."
   ]
  },
  {
   "cell_type": "code",
   "execution_count": 64,
   "id": "38665475-6004-4516-9407-aaeb91d09f93",
   "metadata": {},
   "outputs": [],
   "source": [
    "class ticket():\n",
    "    def __init__(self,t,d,c):\n",
    "       self.type=t\n",
    "       self.distance=d\n",
    "       self.charge=c\n",
    "\n",
    "class genaral(ticket):\n",
    "    def __init__(self,gen,t,d,c):\n",
    "        self.general=gen\n",
    "        super().__init(t,d,c)\n",
    "\n",
    "class sleeper(ticket):\n",
    "    def __init__(self,sleep,t,d,c):\n",
    "        self.sleep=gen\n",
    "        super().__init(t,d,c)\n",
    "\n",
    "class aircondition(ticket):\n",
    "    def __init__(self,act,t,d,c):\n",
    "        self.aircondition=act\n",
    "        super().__init(t,d,c)\n",
    "\n",
    "class first(ticket):\n",
    "     def __init__(self,fir,t,d,c):\n",
    "        self.first=fir\n",
    "        super().__init(t,d,c)\n",
    "\n",
    "\n",
    "    \n",
    "\n",
    "        \n",
    "    "
   ]
  },
  {
   "cell_type": "code",
   "execution_count": 70,
   "id": "ab5a0ca0-4b2a-4a6a-bf80-720e058e4119",
   "metadata": {},
   "outputs": [
    {
     "name": "stdin",
     "output_type": "stream",
     "text": [
      "Enter source station (A/B/C):  A\n",
      "Enter destination station (A/B/C):  B\n"
     ]
    },
    {
     "name": "stdout",
     "output_type": "stream",
     "text": [
      "Distance: 100 kms\n",
      "\n",
      "Ticket Prices:\n",
      "General Ticket: 250 INR\n",
      "Sleeper Ticket: 450 INR\n",
      "AC Ticket: 650 INR\n",
      "First Class Ticket: 750 INR\n"
     ]
    }
   ],
   "source": [
    "class Ticket:\n",
    "    def __init__(self, source, destination, distance):\n",
    "        self.source = source\n",
    "        self.destination = destination\n",
    "        self.distance = distance\n",
    "\n",
    "    def calculate_price(self):\n",
    "        base_price = 50\n",
    "        distance_charge = self.distance * 2\n",
    "        total_price = base_price + distance_charge\n",
    "        return total_price\n",
    "\n",
    "class GeneralTicket(Ticket):\n",
    "    def __init__(self, source, destination, distance):\n",
    "        super().__init__(source, destination, distance)\n",
    "\n",
    "class SleeperTicket(Ticket):\n",
    "    def __init__(self, source, destination, distance):\n",
    "        super().__init__(source, destination, distance)\n",
    "\n",
    "    def calculate_price(self):\n",
    "        base_price = 50\n",
    "        distance_charge = self.distance * 2\n",
    "        sleeper_charge = self.distance * 2\n",
    "        total_price = base_price + distance_charge + sleeper_charge\n",
    "        return total_price\n",
    "\n",
    "class ACTicket(Ticket):\n",
    "    def __init__(self, source, destination, distance):\n",
    "        super().__init__(source, destination, distance)\n",
    "\n",
    "    def calculate_price(self):\n",
    "        base_price = 50\n",
    "        distance_charge = self.distance * 2\n",
    "        ac_charge = self.distance * 4\n",
    "        total_price = base_price + distance_charge + ac_charge\n",
    "        return total_price\n",
    "\n",
    "class FirstClassTicket(Ticket):\n",
    "    def __init__(self, source, destination, distance):\n",
    "        super().__init__(source, destination, distance)\n",
    "\n",
    "    def calculate_price(self):\n",
    "        base_price = 50\n",
    "        distance_charge = self.distance * 2\n",
    "        first_class_charge = self.distance * 5\n",
    "        total_price = base_price + distance_charge + first_class_charge\n",
    "        return total_price\n",
    "\n",
    "source = input(\"Enter source station (A/B/C): \")\n",
    "destination = input(\"Enter destination station (A/B/C): \")\n",
    "\n",
    "distances = {'A': 500, 'B': 600, 'C': 400}\n",
    "distance = distances.get(destination, 0) - distances.get(source, 0)\n",
    "\n",
    "if distance <= 0:\n",
    "    print(\"Invalid source or destination\")\n",
    "else:\n",
    "    print(\"Distance:\", distance, \"kms\")\n",
    "\n",
    "    general_ticket = GeneralTicket(source, destination, distance)\n",
    "    sleeper_ticket = SleeperTicket(source, destination, distance)\n",
    "    ac_ticket = ACTicket(source, destination, distance)\n",
    "    first_class_ticket = FirstClassTicket(source, destination, distance)\n",
    "\n",
    "    print(\"\\nTicket Prices:\")\n",
    "    print(\"General Ticket:\", general_ticket.calculate_price(), \"INR\")\n",
    "    print(\"Sleeper Ticket:\", sleeper_ticket.calculate_price(), \"INR\")\n",
    "    print(\"AC Ticket:\", ac_ticket.calculate_price(), \"INR\")\n",
    "    print(\"First Class Ticket:\", first_class_ticket.calculate_price(), \"INR\")\n"
   ]
  },
  {
   "cell_type": "code",
   "execution_count": 2,
   "id": "dce89601-fd01-42fc-9423-caa57f60a006",
   "metadata": {},
   "outputs": [
    {
     "name": "stdout",
     "output_type": "stream",
     "text": [
      "Ticket booked Fare Price will be:  6550\n"
     ]
    }
   ],
   "source": [
    "class ticket:\n",
    "   \n",
    "    def __init__(self,D):\n",
    "        self.distance = int(D)\n",
    "        self.farePrice = None\n",
    "\n",
    "class gen(ticket):\n",
    "    def __init__(self,D):\n",
    "        super().__init__(D)\n",
    "    def print_ticket(self):\n",
    "        self.farePrice=50+(self.distance*2)\n",
    "        return self.farePrice\n",
    "        \n",
    "\n",
    "\n",
    "class slp(gen):\n",
    "    def __init__(self,D):\n",
    "        super().__init__(D)\n",
    "\n",
    "    def print_ticket(self):\n",
    "        self.farePrice=super().print_ticket()+(2*self.distance)\n",
    "        return self.farePrice\n",
    "\n",
    "class AC(slp):\n",
    "    def __init__(self,D):\n",
    "        super().__init__(D)\n",
    "    def print_ticket(self):\n",
    "        self.farePrice=super().print_ticket()+(4*self.distance)\n",
    "        return self.farePrice\n",
    "\n",
    "class FC(AC):\n",
    "    def __init__(self,D):\n",
    "        super().__init__(D)\n",
    "    def print_ticket(self):\n",
    "        self.farePrice=super().print_ticket()+(5*self.distance)\n",
    "        return self.farePrice\n",
    "\n",
    "\n",
    "jur = FC(500)\n",
    "print(\"Ticket booked Fare Price will be: \",jur.print_ticket())"
   ]
  },
  {
   "cell_type": "code",
   "execution_count": 1,
   "id": "44fb02aa-81d3-4bab-8a00-f01bff6352d7",
   "metadata": {},
   "outputs": [
    {
     "name": "stdout",
     "output_type": "stream",
     "text": [
      "Ticket booked Fare Price will be:  6550\n"
     ]
    }
   ],
   "source": [
    "class Ticket:\n",
    "    def __init__(self, D):\n",
    "        self.distance = int(D)\n",
    "        self.farePrice = None\n",
    "\n",
    "class Gen(Ticket):\n",
    "    def __init__(self, D):\n",
    "        super().__init__(D)\n",
    "\n",
    "    def print_ticket(self):\n",
    "        self.farePrice = 50 + (self.distance * 2)\n",
    "        return self.farePrice\n",
    "\n",
    "class Slp(Gen):\n",
    "    def __init__(self, D):\n",
    "        super().__init__(D)\n",
    "\n",
    "    def print_ticket(self):\n",
    "        self.farePrice = super().print_ticket() + (2 * self.distance)\n",
    "        return self.farePrice\n",
    "\n",
    "class AC(Slp):\n",
    "    def __init__(self, D):\n",
    "        super().__init__(D)\n",
    "\n",
    "    def print_ticket(self):\n",
    "        self.farePrice = super().print_ticket() + (4 * self.distance)\n",
    "        return self.farePrice\n",
    "\n",
    "class FC(AC):\n",
    "    def __init__(self, D):\n",
    "        super().__init__(D)\n",
    "\n",
    "    def print_ticket(self):\n",
    "        self.farePrice = super().print_ticket() + (5 * self.distance)\n",
    "        return self.farePrice\n",
    "\n",
    "jur = FC(500)\n",
    "print(\"Ticket booked Fare Price will be: \", jur.print_ticket())\n"
   ]
  },
  {
   "cell_type": "code",
   "execution_count": null,
   "id": "93b27956-a203-4636-9440-77a7e02ecf94",
   "metadata": {},
   "outputs": [],
   "source": []
  },
  {
   "cell_type": "code",
   "execution_count": null,
   "id": "648be721-8ef3-4e6d-bf6e-650798363bd5",
   "metadata": {},
   "outputs": [],
   "source": []
  }
 ],
 "metadata": {
  "kernelspec": {
   "display_name": "Python 3 (ipykernel)",
   "language": "python",
   "name": "python3"
  },
  "language_info": {
   "codemirror_mode": {
    "name": "ipython",
    "version": 3
   },
   "file_extension": ".py",
   "mimetype": "text/x-python",
   "name": "python",
   "nbconvert_exporter": "python",
   "pygments_lexer": "ipython3",
   "version": "3.12.3"
  }
 },
 "nbformat": 4,
 "nbformat_minor": 5
}
