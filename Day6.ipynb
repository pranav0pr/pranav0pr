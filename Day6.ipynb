{
 "cells": [
  {
   "cell_type": "code",
   "execution_count": null,
   "id": "208c068f-e71c-41bc-8b7f-babf91f8015b",
   "metadata": {},
   "outputs": [],
   "source": [
    "class vehicle:\n",
    "    def _init_(self,p,c,r):\n",
    "        self.price=p\n",
    "        self.colour=c\n",
    "        self.ragplate=r\n",
    "    def print(self):\n",
    "        print(\"price of vehicle\",self.price)\n",
    "        print(\"colour of vehicle\",self.colour)\n",
    "        print(\"ragplate of the vehicle\",self.ragplate)\n",
    "        \n",
    "if _name==\"main_\":\n",
    "    honda=vehicle(100000,\"black\",\"ka37123\")\n",
    "    honda.print()\n",
    "\n",
    "class car(vehicle):\n",
    "    def _init_(self,t,p,s):\n",
    "        self.type=t\n",
    "        self.passenger=p\n",
    "        self.speed=s\n",
    "    def print(self):\n",
    "        print(\"type of car\",self.type)\n",
    "        print(\"no of passenger in the car\",self.passenger)\n",
    "        print(\"speed of the car \",self.speed)\n",
    "        \n",
    "if _name==\"main_\":\n",
    "    tata=car(\"tata\",6,150)\n",
    "    tata.print()\n",
    "\n",
    "class truck(car):\n",
    "    def _init_(self,c,a):\n",
    "        self.capacity=c\n",
    "        self.axel=a\n",
    "       \n",
    "    def print(self):\n",
    "        print(\"capacity of truck\",self.capacity)\n",
    "        print(\"axel of the truck\",self.axel)\n",
    "        \n",
    "if _name==\"main_\":\n",
    "    tata=truck(\"tata\",6,150)\n",
    "    tata.print()"
   ]
  },
  {
   "cell_type": "code",
   "execution_count": null,
   "id": "6db1566e-3199-456b-9aad-b0c950d5f234",
   "metadata": {},
   "outputs": [],
   "source": [
    "#employee-->id,name,salary\n",
    "#s.staff-->work type,work place\n",
    "#developer-->module,tech,experiance\n",
    "#manager-->project,client name"
   ]
  },
  {
   "cell_type": "code",
   "execution_count": 8,
   "id": "07a4c040-5b92-4824-8574-9650db67b836",
   "metadata": {},
   "outputs": [
    {
     "name": "stdout",
     "output_type": "stream",
     "text": [
      "*\n",
      "**\n",
      "***\n",
      "****\n",
      "*****\n",
      "******\n",
      "*******\n"
     ]
    }
   ],
   "source": [
    "for x in range(0, 7):\n",
    "    for y in range(0, x + 1):\n",
    "        print(\"*\", end=\"\")\n",
    "    print()\n"
   ]
  },
  {
   "cell_type": "code",
   "execution_count": 14,
   "id": "270163da-d8a1-4a3a-a85a-596b209fd738",
   "metadata": {},
   "outputs": [
    {
     "name": "stdout",
     "output_type": "stream",
     "text": [
      "**\n",
      "***\n",
      "****\n",
      "*****\n",
      "******\n",
      "*******\n",
      "********\n"
     ]
    }
   ],
   "source": [
    "for x in range(0, 7):\n",
    "    for y in range(0, x + 2):\n",
    "        print(\"*\", end=\"\")\n",
    "    print()\n"
   ]
  },
  {
   "cell_type": "code",
   "execution_count": 15,
   "id": "00a0d374-de5c-400d-bc0a-0c29040c602d",
   "metadata": {},
   "outputs": [
    {
     "name": "stdout",
     "output_type": "stream",
     "text": [
      "\n",
      "\n",
      "\n",
      "\n",
      "*\n",
      "**\n",
      "***\n"
     ]
    }
   ],
   "source": [
    "for x in range(0, 7):\n",
    "    for y in range(0, x - 3):\n",
    "        print(\"*\", end=\"\")\n",
    "    print()\n"
   ]
  },
  {
   "cell_type": "code",
   "execution_count": 18,
   "id": "bea97899-69d2-4576-a2a0-cbf19baa1f3c",
   "metadata": {},
   "outputs": [
    {
     "name": "stdin",
     "output_type": "stream",
     "text": [
      "Enter the size of the square:  6\n"
     ]
    },
    {
     "name": "stdout",
     "output_type": "stream",
     "text": [
      "* * * * * * \n",
      "* * * * * * \n",
      "* * * * * * \n",
      "* * * * * * \n",
      "* * * * * * \n",
      "* * * * * * \n"
     ]
    }
   ],
   "source": [
    "size = int(input(\"Enter the size of the square: \"))\n",
    "\n",
    "for i in range(size):\n",
    "    for j in range(size):\n",
    "        print(\"*\", end=\" \")\n",
    "    print()"
   ]
  },
  {
   "cell_type": "code",
   "execution_count": 26,
   "id": "f18947d4-72ae-4115-9071-9a0ec55c6ab3",
   "metadata": {},
   "outputs": [
    {
     "name": "stdout",
     "output_type": "stream",
     "text": [
      "    *\n",
      "   ***\n",
      "  *****\n",
      " *******\n",
      "*********\n"
     ]
    }
   ],
   "source": [
    "height = 5\n",
    "\n",
    "for i in range(1, height + 1):\n",
    "   \n",
    "    print(' ' * (height - i), end='')\n",
    "    print('*' * (2 * i - 1))"
   ]
  },
  {
   "cell_type": "code",
   "execution_count": 28,
   "id": "8d456e89-b769-4c6f-8640-3b30b027796e",
   "metadata": {},
   "outputs": [
    {
     "name": "stdout",
     "output_type": "stream",
     "text": [
      "*********\n",
      " *******\n",
      "  *****\n",
      "   ***\n",
      "    *\n"
     ]
    }
   ],
   "source": [
    "\n",
    "size = 5\n",
    "\n",
    "\n",
    "for i in range(size, 0, -1):\n",
    "    for j in range(size - i):\n",
    "        print(' ', end='')\n",
    "    \n",
    "    for j in range(2 * i - 1):\n",
    "        print('*', end='')\n",
    "    print()"
   ]
  },
  {
   "cell_type": "code",
   "execution_count": 29,
   "id": "0f53f98d-6813-4e22-bcc2-f44a27cbbd67",
   "metadata": {},
   "outputs": [
    {
     "name": "stdout",
     "output_type": "stream",
     "text": [
      "    *\n",
      "   **\n",
      "  ***\n",
      " ****\n",
      "*****\n"
     ]
    }
   ],
   "source": [
    "height = 5\n",
    "\n",
    "for i in range(height):\n",
    "    for j in range(height - i - 1):\n",
    "        print(\" \", end=\"\")\n",
    "    \n",
    "    for k in range(i + 1):\n",
    "        print(\"*\", end=\"\")\n",
    "    print()"
   ]
  },
  {
   "cell_type": "code",
   "execution_count": 30,
   "id": "82c7cfe2-6c79-421c-9f5c-60ce0294db38",
   "metadata": {},
   "outputs": [
    {
     "name": "stdout",
     "output_type": "stream",
     "text": [
      "    *\n",
      "   **\n",
      "  ***\n",
      " ****\n",
      "*****\n"
     ]
    }
   ],
   "source": [
    "height = 5\n",
    "\n",
    "for i in range(height):\n",
    "    for j in range(height - i - 1):\n",
    "        print(\" \", end=\"\")\n",
    "    \n",
    "    for k in range(i + 1):\n",
    "        print(\"*\", end=\"\")\n",
    "    \n",
    "    print()"
   ]
  },
  {
   "cell_type": "code",
   "execution_count": 31,
   "id": "22d4c7e3-e5b9-444e-b148-bccbccb58641",
   "metadata": {},
   "outputs": [
    {
     "name": "stdout",
     "output_type": "stream",
     "text": [
      "*****\n",
      " ****\n",
      "  ***\n",
      "   **\n",
      "    *\n"
     ]
    }
   ],
   "source": [
    "height = 5\n",
    "\n",
    "\n",
    "for i in range(height):\n",
    "    \n",
    "    for j in range(i):\n",
    "        print(\" \", end=\"\")\n",
    "    \n",
    "    for k in range(height - i):\n",
    "        print(\"*\", end=\"\")\n",
    "    \n",
    "    print()"
   ]
  },
  {
   "cell_type": "code",
   "execution_count": 38,
   "id": "28c69728-a784-4e05-9cdc-ba1c61741e6c",
   "metadata": {},
   "outputs": [
    {
     "name": "stdout",
     "output_type": "stream",
     "text": [
      "*\n",
      "**\n",
      "***\n",
      "****\n",
      "*****\n"
     ]
    }
   ],
   "source": [
    "for i in range(0, 5):\n",
    "  for j in range(0,i + 1):\n",
    "    print(\"*\",end=\"\")\n",
    "  print()"
   ]
  },
  {
   "cell_type": "code",
   "execution_count": 39,
   "id": "3530cca1-f1dc-4a35-9673-4b11bbdacfc4",
   "metadata": {},
   "outputs": [
    {
     "name": "stdout",
     "output_type": "stream",
     "text": [
      "*****\n",
      "*****\n",
      "*****\n",
      "*****\n",
      "*****\n"
     ]
    }
   ],
   "source": [
    "for i in range(0, 5):\n",
    "  for j in range(0,j + 1):\n",
    "    print(\"*\",end=\"\")\n",
    "  print()"
   ]
  },
  {
   "cell_type": "code",
   "execution_count": 41,
   "id": "5cc87123-986d-4cd5-baa9-1da436a2be63",
   "metadata": {},
   "outputs": [
    {
     "name": "stdout",
     "output_type": "stream",
     "text": [
      "*\n",
      "**\n",
      "***\n",
      "****\n",
      "*****\n"
     ]
    }
   ],
   "source": [
    "for i in range(0, 5):\n",
    "  for j in range(0,i + 1):\n",
    "    print(\"*\",end=\"\")\n",
    "  print()"
   ]
  },
  {
   "cell_type": "code",
   "execution_count": null,
   "id": "49746376-b6df-4d22-8900-5d19eebf6c2f",
   "metadata": {},
   "outputs": [],
   "source": []
  },
  {
   "cell_type": "code",
   "execution_count": 2,
   "id": "2b95fe85-7a8c-4e6a-af80-6fa75455ff97",
   "metadata": {},
   "outputs": [
    {
     "name": "stdout",
     "output_type": "stream",
     "text": [
      "* * * * * \n",
      "*       * \n",
      "*       * \n",
      "*       * \n",
      "* * * * * \n"
     ]
    }
   ],
   "source": [
    "size = 5\n",
    "\n",
    "\n",
    "for i in range(size):\n",
    "    for j in range(size):\n",
    "        if i == 0 or i == size - 1 or j == 0 or j == size - 1:\n",
    "            print('*', end=' ')\n",
    "        else:\n",
    "            print(' ', end=' ')\n",
    "    print()"
   ]
  },
  {
   "cell_type": "code",
   "execution_count": 62,
   "id": "57fea0f2-3a48-4a40-b123-038fff917b7b",
   "metadata": {},
   "outputs": [
    {
     "name": "stdout",
     "output_type": "stream",
     "text": [
      "1\n",
      "00\n",
      "111\n",
      "0000\n",
      "11111\n"
     ]
    }
   ],
   "source": [
    "rows = 5\n",
    "\n",
    "\n",
    "for i in range(1, rows + 1):\n",
    "    # Print '0' for even rows and '1' for odd rows\n",
    "    print('0' * i if i % 2 == 0 else '1' * i)\n"
   ]
  },
  {
   "cell_type": "code",
   "execution_count": 73,
   "id": "c2f38435-fe2b-44d4-97d0-0d0afe1bd176",
   "metadata": {
    "jp-MarkdownHeadingCollapsed": true
   },
   "outputs": [
    {
     "name": "stdout",
     "output_type": "stream",
     "text": [
      "* * * * * \n",
      "*       * \n",
      "*       * \n",
      "*       * \n",
      "* * * * * \n"
     ]
    }
   ],
   "source": [
    " size = 5\n",
    "\n",
    "for i in range(size):\n",
    "    for j in range(size):\n",
    "        if i == 0 or i == size - 1 or j == 0 or j == size - 1:\n",
    "            print('*', end=' ')\n",
    "        else:\n",
    "            print(' ', end=' ')\n",
    "    print()"
   ]
  },
  {
   "cell_type": "code",
   "execution_count": 75,
   "id": "27625697-d704-45f3-9fc5-e2b0054ae144",
   "metadata": {},
   "outputs": [
    {
     "name": "stdout",
     "output_type": "stream",
     "text": [
      "*        *\n",
      "**      **\n",
      "***    ***\n",
      "****  ****\n",
      "**********\n",
      "**********\n",
      "****  ****\n",
      "***    ***\n",
      "**      **\n",
      "*        *\n"
     ]
    }
   ],
   "source": [
    "# Number of rows\n",
    "\n",
    "r=5\n",
    "\n",
    "for i in range(1, r+1):\n",
    "\n",
    "  print(\"*\"*i, end=\"\")\n",
    "\n",
    "  print(\" \"*(r-i)*2, end=\"\")\n",
    "\n",
    "  print(\"*\"*i)\n",
    "\n",
    "\n",
    "for i in range(r,0,-1):\n",
    "\n",
    "  print(\"*\"*i, end=\"\")\n",
    "\n",
    "  print(\" \"*(r-i)*2, end=\"\")\n",
    "\n",
    "  print(\"*\"*i)"
   ]
  },
  {
   "cell_type": "code",
   "execution_count": null,
   "id": "f35a4689-d844-4dcc-b61e-0afed742ae63",
   "metadata": {},
   "outputs": [],
   "source": []
  }
 ],
 "metadata": {
  "kernelspec": {
   "display_name": "Python 3 (ipykernel)",
   "language": "python",
   "name": "python3"
  },
  "language_info": {
   "codemirror_mode": {
    "name": "ipython",
    "version": 3
   },
   "file_extension": ".py",
   "mimetype": "text/x-python",
   "name": "python",
   "nbconvert_exporter": "python",
   "pygments_lexer": "ipython3",
   "version": "3.12.3"
  }
 },
 "nbformat": 4,
 "nbformat_minor": 5
}
