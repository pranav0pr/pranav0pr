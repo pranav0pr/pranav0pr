{
 "cells": [
  {
   "cell_type": "code",
   "execution_count": 6,
   "id": "11abe5ba-c65e-4a53-8034-001a94130d6e",
   "metadata": {},
   "outputs": [
    {
     "name": "stdout",
     "output_type": "stream",
     "text": [
      "[1, 2, 3, 3.4]\n",
      "<class 'list'>\n"
     ]
    }
   ],
   "source": [
    "a=[1,2,3,3.4]\n",
    "print(a)\n",
    "print(type(a))\n",
    "\n"
   ]
  },
  {
   "cell_type": "code",
   "execution_count": 7,
   "id": "2f3221cd-c385-4581-a00f-57bcc3e16909",
   "metadata": {},
   "outputs": [
    {
     "name": "stdout",
     "output_type": "stream",
     "text": [
      "[1, 2, 3, 3.4]\n",
      "<class 'list'>\n",
      "3\n"
     ]
    }
   ],
   "source": [
    "a=[1,2,3,3.4]\n",
    "print(a)\n",
    "print(type(a))\n",
    "print(a[2])"
   ]
  },
  {
   "cell_type": "code",
   "execution_count": 18,
   "id": "ac96fba3-6d4a-4ca0-a2ff-923c03a88e94",
   "metadata": {},
   "outputs": [
    {
     "name": "stdout",
     "output_type": "stream",
     "text": [
      "1\n",
      "2\n",
      "3\n",
      "4\n",
      "5\n"
     ]
    }
   ],
   "source": [
    "y=[1,2,3,4,5]\n",
    "for a in range(0,5):\n",
    "  print(y[a])\n",
    "  "
   ]
  },
  {
   "cell_type": "code",
   "execution_count": 19,
   "id": "047e1919-7b93-4f5e-b8d9-6543d5b682fb",
   "metadata": {},
   "outputs": [
    {
     "ename": "TypeError",
     "evalue": "'int' object is not subscriptable",
     "output_type": "error",
     "traceback": [
      "\u001b[1;31m---------------------------------------------------------------------------\u001b[0m",
      "\u001b[1;31mTypeError\u001b[0m                                 Traceback (most recent call last)",
      "Cell \u001b[1;32mIn[19], line 3\u001b[0m\n\u001b[0;32m      1\u001b[0m y\u001b[38;5;241m=\u001b[39m[\u001b[38;5;241m1\u001b[39m,\u001b[38;5;241m2\u001b[39m,\u001b[38;5;241m3\u001b[39m,\u001b[38;5;241m4\u001b[39m,\u001b[38;5;241m5\u001b[39m]\n\u001b[0;32m      2\u001b[0m \u001b[38;5;28;01mfor\u001b[39;00m a \u001b[38;5;129;01min\u001b[39;00m \u001b[38;5;28mrange\u001b[39m(\u001b[38;5;241m0\u001b[39m,\u001b[38;5;241m5\u001b[39m):\n\u001b[1;32m----> 3\u001b[0m     \u001b[38;5;28mprint\u001b[39m(\u001b[43my\u001b[49m\u001b[43m[\u001b[49m\u001b[43ma\u001b[49m\u001b[43m]\u001b[49m\u001b[43m[\u001b[49m\u001b[38;5;241;43m1\u001b[39;49m\u001b[43m]\u001b[49m)\n",
      "\u001b[1;31mTypeError\u001b[0m: 'int' object is not subscriptable"
     ]
    }
   ],
   "source": [
    "y=[1,2,3,4,5]\n",
    "for a in range(0,5):\n",
    "    print(y[a][1])"
   ]
  },
  {
   "cell_type": "code",
   "execution_count": 20,
   "id": "9e09af9e-1c93-4a33-a410-db15736e4b43",
   "metadata": {},
   "outputs": [
    {
     "ename": "TypeError",
     "evalue": "'int' object is not subscriptable",
     "output_type": "error",
     "traceback": [
      "\u001b[1;31m---------------------------------------------------------------------------\u001b[0m",
      "\u001b[1;31mTypeError\u001b[0m                                 Traceback (most recent call last)",
      "Cell \u001b[1;32mIn[20], line 3\u001b[0m\n\u001b[0;32m      1\u001b[0m y\u001b[38;5;241m=\u001b[39m[\u001b[38;5;241m1\u001b[39m,\u001b[38;5;241m2\u001b[39m,\u001b[38;5;241m3\u001b[39m,\u001b[38;5;241m4\u001b[39m,\u001b[38;5;241m5\u001b[39m]\n\u001b[0;32m      2\u001b[0m \u001b[38;5;28;01mfor\u001b[39;00m a \u001b[38;5;129;01min\u001b[39;00m \u001b[38;5;28mrange\u001b[39m(\u001b[38;5;241m0\u001b[39m,\u001b[38;5;241m5\u001b[39m):\n\u001b[1;32m----> 3\u001b[0m     \u001b[38;5;28mprint\u001b[39m(\u001b[43my\u001b[49m\u001b[43m[\u001b[49m\u001b[43ma\u001b[49m\u001b[43m]\u001b[49m\u001b[43m[\u001b[49m\u001b[43ma\u001b[49m\u001b[43m]\u001b[49m)\n",
      "\u001b[1;31mTypeError\u001b[0m: 'int' object is not subscriptable"
     ]
    }
   ],
   "source": [
    "y=[1,2,3,4,5]\n",
    "for a in range(0,5):\n",
    "    print(y[a][a])"
   ]
  },
  {
   "cell_type": "code",
   "execution_count": 21,
   "id": "4c232821-c76c-4602-8e12-004cf72b461f",
   "metadata": {},
   "outputs": [
    {
     "name": "stdout",
     "output_type": "stream",
     "text": [
      "1\n",
      "2\n",
      "3\n",
      "4\n",
      "5\n"
     ]
    }
   ],
   "source": [
    "y=[1,2,3,4,5]\n",
    "for a in range(0,5):\n",
    "  print(y[a])\n",
    "  "
   ]
  },
  {
   "cell_type": "code",
   "execution_count": 29,
   "id": "5c30b0eb-5fa6-4ba2-b03b-72a6dfe8730c",
   "metadata": {},
   "outputs": [
    {
     "name": "stdin",
     "output_type": "stream",
     "text": [
      " 3\n",
      " 4\n",
      " 3\n"
     ]
    }
   ],
   "source": [
    "a=int(input())\n",
    "b=int(input())\n",
    "arithmetic=(input())\n",
    "match arithmetic:\n",
    "    case 1:print(a+b)\n",
    "    case 2:print(a-b)\n",
    "    case 3:print(a*b)\n",
    "    case 4:print(a/b)\n",
    "    case 5:print(ab)\n",
    "    case 6:print(pow(a,b))\n",
    "    "
   ]
  },
  {
   "cell_type": "code",
   "execution_count": 43,
   "id": "cd581306-2215-4699-8b27-8f6f24f12724",
   "metadata": {},
   "outputs": [
    {
     "name": "stdout",
     "output_type": "stream",
     "text": [
      "[1, 2, 3, 4, 5]\n",
      "4\n",
      "[1, 2, 3, 5]\n",
      "2\n",
      "1\n",
      "3\n",
      "[1, 2, 3, 5, 3, 6, 3]\n",
      "[1, 2, 5, 3, 6, 3]\n",
      "[1, 2, 3, 3, 5, 6]\n",
      "[6, 5, 3, 3, 2, 1]\n",
      "6\n",
      "[6, 5, 3, 3, 2, 1, 1, 2, 3, 4, 5]\n",
      "[6, 5, 3, 3, 2, 1, 1, 2, 3, 4, 5, 1, 2, 3, 4, 5, 6, 5, 3, 3, 2, 1, 1, 2, 3, 4, 5]\n"
     ]
    }
   ],
   "source": [
    "a=[1,2,3,4,5]\n",
    "b=a.copy()\n",
    "print(b)\n",
    "\n",
    "c=b.pop(3)\n",
    "print(c)\n",
    "\n",
    "print(b)\n",
    "b.append(3)\n",
    "b.append(6)\n",
    "b.append(3)\n",
    "print(b.index(3))\n",
    "print(b.index(2))\n",
    "print(b.index(5))\n",
    "print(b)\n",
    "b.remove(3)\n",
    "print(b)\n",
    "b.sort()\n",
    "print(b)\n",
    "b.sort(reverse=True)\n",
    "print(b)\n",
    "print(len(b))\n",
    "b.extend(a)\n",
    "print(b)\n",
    "b.extend(a+b)\n",
    "print(b)"
   ]
  },
  {
   "cell_type": "code",
   "execution_count": 44,
   "id": "d7d5f94a-5cc8-4cdc-9dd5-2b5605b8c0d3",
   "metadata": {},
   "outputs": [
    {
     "name": "stdout",
     "output_type": "stream",
     "text": [
      "10\n",
      "9\n",
      "8\n",
      "7\n",
      "6\n",
      "5\n",
      "4\n",
      "36\n",
      "2\n",
      "1\n",
      "71\n",
      "2\n",
      "3\n",
      "94\n",
      "5\n",
      "1\n",
      "2\n",
      "83\n",
      "4\n",
      "5\n"
     ]
    }
   ],
   "source": [
    "#for each loop\n",
    "\n",
    "a=[10,9,8,7,6,5,4,36,2,1,71,2,3,94,5,1,2,83,4,5]\n",
    "for x in a:\n",
    "    print(x)"
   ]
  },
  {
   "cell_type": "code",
   "execution_count": 54,
   "id": "87358433-1069-4606-87ed-400c62d715b2",
   "metadata": {},
   "outputs": [
    {
     "name": "stdin",
     "output_type": "stream",
     "text": [
      "Enter the size of list:  5\n",
      " 1\n"
     ]
    },
    {
     "name": "stdout",
     "output_type": "stream",
     "text": [
      "['1']\n"
     ]
    },
    {
     "name": "stdin",
     "output_type": "stream",
     "text": [
      " 2\n"
     ]
    },
    {
     "name": "stdout",
     "output_type": "stream",
     "text": [
      "['1', '2']\n"
     ]
    },
    {
     "name": "stdin",
     "output_type": "stream",
     "text": [
      " 3\n"
     ]
    },
    {
     "name": "stdout",
     "output_type": "stream",
     "text": [
      "['1', '2', '3']\n"
     ]
    },
    {
     "name": "stdin",
     "output_type": "stream",
     "text": [
      " 4\n"
     ]
    },
    {
     "name": "stdout",
     "output_type": "stream",
     "text": [
      "['1', '2', '3', '4']\n"
     ]
    },
    {
     "name": "stdin",
     "output_type": "stream",
     "text": [
      " 5\n"
     ]
    },
    {
     "name": "stdout",
     "output_type": "stream",
     "text": [
      "['1', '2', '3', '4', '5']\n"
     ]
    }
   ],
   "source": [
    "n=int(input(\"Enter the size of list: \"))\n",
    "a=[]\n",
    "for x in range(0,n):\n",
    "    x=input()\n",
    "    a.append(x)\n",
    "    print(a)"
   ]
  },
  {
   "cell_type": "code",
   "execution_count": 59,
   "id": "303f568b-1183-4b5d-92f5-81ae661300bf",
   "metadata": {},
   "outputs": [
    {
     "name": "stdin",
     "output_type": "stream",
     "text": [
      "Enter the elements of the list:  1 2 3 4 5\n"
     ]
    },
    {
     "name": "stdout",
     "output_type": "stream",
     "text": [
      "[1, 2, 3, 4, 5]\n"
     ]
    }
   ],
   "source": [
    "L=[int(item) for item in(input(\"Enter the elements of the list: \")).split()]\n",
    "print(L)"
   ]
  },
  {
   "cell_type": "code",
   "execution_count": 60,
   "id": "aae5a0c7-2bf3-409f-a3ff-16c7eb2e017a",
   "metadata": {},
   "outputs": [
    {
     "name": "stdout",
     "output_type": "stream",
     "text": [
      "[1, 2, 3, 4, 5]\n"
     ]
    }
   ],
   "source": [
    "a=list([1,2,3,4,5])\n",
    "print(a)"
   ]
  },
  {
   "cell_type": "code",
   "execution_count": 73,
   "id": "032e44e0-9643-41c2-ba03-91cbb9950121",
   "metadata": {},
   "outputs": [
    {
     "name": "stdout",
     "output_type": "stream",
     "text": [
      "(1, 2, 3, 4, 5.5, 'pavan')\n",
      "[1, 2, 3, 4, 5.5, 'pavan']\n",
      "(1, 2, 3, 4, 5.5, 'kumar')\n",
      "5.5\n",
      "(1, 2, 3, 4, 5.5, 'kumar')\n",
      "(1, 2, 3, 4, 5.5, 'kumar')\n",
      "(1, 2, 3, 4, 5.5, 'kumar')\n",
      "(1, 2, 3, 4, 5.5, 'kumar')\n",
      "(1, 2, 3, 4, 5.5, 'kumar')\n"
     ]
    }
   ],
   "source": [
    "#tupple\n",
    "a=(1,2,3,4,5.5,\"pavan\")\n",
    "print(a)\n",
    "\n",
    "b=list(a)\n",
    "print(b)\n",
    "b[5]=\"kumar\"\n",
    "\n",
    "a=tuple(b)\n",
    "print(a)\n",
    "print(a[-2])\n",
    "for x in range (0,5):\n",
    "        print(a)\n"
   ]
  },
  {
   "cell_type": "code",
   "execution_count": 71,
   "id": "74ab6b29-b90c-4309-a501-7f23957fccf8",
   "metadata": {},
   "outputs": [
    {
     "name": "stdin",
     "output_type": "stream",
     "text": [
      "Enter the number of elements:  5\n"
     ]
    },
    {
     "name": "stdout",
     "output_type": "stream",
     "text": [
      "Enter the elements:\n"
     ]
    },
    {
     "name": "stdin",
     "output_type": "stream",
     "text": [
      " 1\n",
      " 2\n",
      " 3\n",
      " 4\n",
      " 5\n"
     ]
    },
    {
     "name": "stdout",
     "output_type": "stream",
     "text": [
      "Reversed list: \n",
      "['1', '2', '3', '4', '5']\n",
      "Reversed list: \n",
      "['1', '2', '3', '4', '5']\n",
      "Reversed list: \n",
      "['1', '2', '3', '4', '5']\n",
      "Reversed list: \n",
      "['1', '2', '3', '4', '5']\n",
      "Reversed list: \n",
      "['1', '2', '3', '4', '5']\n"
     ]
    }
   ],
   "source": [
    "n = int(input(\"Enter the number of elements: \"))\n",
    "a=[]\n",
    "print(\"Enter the elements:\")\n",
    "for i in range(n):\n",
    "    element = input()\n",
    "    a .append(element)\n",
    "for i in range(len(a)):\n",
    "   print(\"Reversed list: \")\n",
    "   print(a)"
   ]
  },
  {
   "cell_type": "code",
   "execution_count": 76,
   "id": "5014b830-c264-4b1e-bd66-1db59cc217d1",
   "metadata": {},
   "outputs": [
    {
     "name": "stdout",
     "output_type": "stream",
     "text": [
      "9\n",
      "8\n",
      "7\n",
      "6\n",
      "5\n",
      "4\n",
      "3\n",
      "2\n",
      "1\n"
     ]
    }
   ],
   "source": [
    "a=[1,2,3,4,5,6,7,8,9]\n",
    "for x in range(-1,-1*(len(a)+1),-1):\n",
    "    print(a[x])"
   ]
  },
  {
   "cell_type": "code",
   "execution_count": 78,
   "id": "4f28aef8-00d3-4b8e-bea9-5973b79b0a96",
   "metadata": {},
   "outputs": [
    {
     "name": "stdout",
     "output_type": "stream",
     "text": [
      "9\n",
      "8\n",
      "7\n",
      "6\n",
      "5\n",
      "4\n",
      "3\n",
      "2\n",
      "1\n"
     ]
    }
   ],
   "source": [
    "a=[1,2,3,4,5,6,7,8,9]\n",
    "for x in range(0,len(a)):\n",
    "    print(a[-1*(x+1)])"
   ]
  },
  {
   "cell_type": "code",
   "execution_count": 79,
   "id": "5dd20ea4-44de-49a4-a5f9-2d79df3d596c",
   "metadata": {},
   "outputs": [
    {
     "name": "stdout",
     "output_type": "stream",
     "text": [
      "{1: 'Pavan', 2: 'Kumar'}\n"
     ]
    }
   ],
   "source": [
    "#dictionary\n",
    "D={1:\"Pavan\",2:\"Kumar\"}\n",
    "print(D)"
   ]
  },
  {
   "cell_type": "code",
   "execution_count": 81,
   "id": "b78fd25a-e212-4332-8765-4b7c9f2f14bc",
   "metadata": {},
   "outputs": [
    {
     "name": "stdout",
     "output_type": "stream",
     "text": [
      "{1: 'Pavan', 2: 'Kumar', 3: 'abcd'}\n"
     ]
    }
   ],
   "source": [
    "D={1:\"Pavan\",2:\"Kumar\",3:\"abcd\"}\n",
    "print(D)"
   ]
  },
  {
   "cell_type": "code",
   "execution_count": 83,
   "id": "6df41cfd-6c4a-46f6-bcf0-70115065d6f2",
   "metadata": {},
   "outputs": [
    {
     "name": "stdout",
     "output_type": "stream",
     "text": [
      "{1: 'Pavan', 2: 'Kumar', 3: 'abcd'}\n",
      "Kumar\n"
     ]
    }
   ],
   "source": [
    "D={1:\"Pavan\",2:\"Kumar\",3:\"abcd\"}\n",
    "print(D)\n",
    "print(D[2])"
   ]
  },
  {
   "cell_type": "code",
   "execution_count": 89,
   "id": "b5b05c94-cec8-497f-8f6c-f31e5a1c0beb",
   "metadata": {},
   "outputs": [
    {
     "name": "stdout",
     "output_type": "stream",
     "text": [
      "{1: 'Pavan', 2: 'Kumar', 3: 'abcd'}\n",
      "Kumar\n",
      "dict_keys([1, 2, 3])\n",
      "dict_values(['Pavan', 'Kumar', 'abcd'])\n",
      "dict_items([(1, 'Pavan'), (2, 'Kumar'), (3, 'abcd')])\n",
      "{1: 'Pavan', 2: 'mango', 3: 'abcd'}\n",
      "mango\n"
     ]
    }
   ],
   "source": [
    "D={1:\"Pavan\",2:\"Kumar\",3:\"abcd\"}\n",
    "print(D)\n",
    "print(D[2])\n",
    "print(D.keys())\n",
    "print(D.values())\n",
    "print(D.items())\n",
    "D[2]=\"mango\"\n",
    "print(D)\n",
    "print(D.get(2))"
   ]
  },
  {
   "cell_type": "code",
   "execution_count": null,
   "id": "2b5c361b-54f6-49bb-9618-de86edb3ad92",
   "metadata": {},
   "outputs": [],
   "source": [
    "write a program to take key and value as input from user and add it into the dictionary if key is not present in dictionary,otherwise  print key already exist and also print its corresponding value."
   ]
  },
  {
   "cell_type": "code",
   "execution_count": null,
   "id": "e418634b-58c5-4978-aab9-d59411d9e0a6",
   "metadata": {},
   "outputs": [],
   "source": []
  },
  {
   "cell_type": "code",
   "execution_count": 90,
   "id": "d2dd7667-4951-4460-89f5-c885bd60c4e2",
   "metadata": {},
   "outputs": [
    {
     "name": "stdin",
     "output_type": "stream",
     "text": [
      "Enter the key:  4\n",
      "Enter the value:  5\n"
     ]
    },
    {
     "name": "stdout",
     "output_type": "stream",
     "text": [
      "Updated dictionary: {'4': '5'}\n"
     ]
    }
   ],
   "source": [
    "D = {}\n",
    "key = input(\"Enter the key: \")\n",
    "value = input(\"Enter the value: \")\n",
    "if key in D:\n",
    "    print(\"Key already exists! Value:\", D[key])\n",
    "else:\n",
    "    \n",
    "    D[key] = value\n",
    "    print(\"Updated dictionary:\", D)"
   ]
  },
  {
   "cell_type": "code",
   "execution_count": 1,
   "id": "07633a6f-1df8-4b63-93fd-a64424a1f745",
   "metadata": {},
   "outputs": [
    {
     "ename": "ZeroDivisionError",
     "evalue": "division by zero",
     "output_type": "error",
     "traceback": [
      "\u001b[1;31m---------------------------------------------------------------------------\u001b[0m",
      "\u001b[1;31mZeroDivisionError\u001b[0m                         Traceback (most recent call last)",
      "Cell \u001b[1;32mIn[1], line 3\u001b[0m\n\u001b[0;32m      1\u001b[0m A\u001b[38;5;241m=\u001b[39m\u001b[38;5;241m5\u001b[39m\n\u001b[0;32m      2\u001b[0m B\u001b[38;5;241m=\u001b[39m\u001b[38;5;241m0\u001b[39m\n\u001b[1;32m----> 3\u001b[0m C\u001b[38;5;241m=\u001b[39m\u001b[43mA\u001b[49m\u001b[38;5;241;43m/\u001b[39;49m\u001b[43mB\u001b[49m\n",
      "\u001b[1;31mZeroDivisionError\u001b[0m: division by zero"
     ]
    }
   ],
   "source": [
    "A=5\n",
    "B=0\n",
    "C=A/B"
   ]
  },
  {
   "cell_type": "code",
   "execution_count": 3,
   "id": "d48a479b-041a-4b5a-9cda-bb70aa856189",
   "metadata": {},
   "outputs": [
    {
     "name": "stdin",
     "output_type": "stream",
     "text": [
      " 3\n",
      " 4\n"
     ]
    },
    {
     "name": "stdout",
     "output_type": "stream",
     "text": [
      "print division successful\n",
      "0.75\n"
     ]
    }
   ],
   "source": [
    "A=int(input())\n",
    "B=int(input())\n",
    "try:\n",
    "    C=A/B\n",
    "except:\n",
    "    print(\"we can't divide by zero\")\n",
    "else:\n",
    "    print(\"print division successful\")\n",
    "    print(C)\n",
    "    "
   ]
  },
  {
   "cell_type": "code",
   "execution_count": 5,
   "id": "97adb275-cedf-4372-b88a-5e0324dd9f62",
   "metadata": {},
   "outputs": [
    {
     "name": "stdin",
     "output_type": "stream",
     "text": [
      " 3\n",
      " 4\n"
     ]
    },
    {
     "name": "stdout",
     "output_type": "stream",
     "text": [
      "print division successful\n",
      "0.75\n",
      "Error handled\n",
      "we have received the result as:  0.75\n"
     ]
    }
   ],
   "source": [
    "A=int(input())\n",
    "B=int(input())\n",
    "try:\n",
    "    C=A/B\n",
    "except:\n",
    "    print(\"we can't divide by zero\")\n",
    "    C=0\n",
    "else:\n",
    "    print(\"print division successful\")\n",
    "    print(C)\n",
    "finally:\n",
    "    print(\"Error handled\")\n",
    "print(\"we have received the result as: \",C)\n",
    "    "
   ]
  },
  {
   "cell_type": "code",
   "execution_count": 14,
   "id": "f0fd94db-ce61-46f0-886b-ad86d69944b0",
   "metadata": {},
   "outputs": [
    {
     "name": "stdout",
     "output_type": "stream",
     "text": [
      "we can't print the list\n",
      "[1, 2, 3, 4, 5, 6, 7, 8, 9, 10]\n",
      "Error handled\n",
      "we have received the result as:  [1, 2, 3, 4, 5, 6, 7, 8, 9, 10]\n",
      "we can't print the list\n",
      "[1, 2, 3, 4, 5, 6, 7, 8, 9, 10]\n",
      "Error handled\n",
      "we have received the result as:  [1, 2, 3, 4, 5, 6, 7, 8, 9, 10]\n",
      "we can't print the list\n",
      "[1, 2, 3, 4, 5, 6, 7, 8, 9, 10]\n",
      "Error handled\n",
      "we have received the result as:  [1, 2, 3, 4, 5, 6, 7, 8, 9, 10]\n",
      "we can't print the list\n",
      "[1, 2, 3, 4, 5, 6, 7, 8, 9, 10]\n",
      "Error handled\n",
      "we have received the result as:  [1, 2, 3, 4, 5, 6, 7, 8, 9, 10]\n",
      "we can't print the list\n",
      "[1, 2, 3, 4, 5, 6, 7, 8, 9, 10]\n",
      "Error handled\n",
      "we have received the result as:  [1, 2, 3, 4, 5, 6, 7, 8, 9, 10]\n",
      "we can't print the list\n",
      "[1, 2, 3, 4, 5, 6, 7, 8, 9, 10]\n",
      "Error handled\n",
      "we have received the result as:  [1, 2, 3, 4, 5, 6, 7, 8, 9, 10]\n",
      "we can't print the list\n",
      "[1, 2, 3, 4, 5, 6, 7, 8, 9, 10]\n",
      "Error handled\n",
      "we have received the result as:  [1, 2, 3, 4, 5, 6, 7, 8, 9, 10]\n",
      "we can't print the list\n",
      "[1, 2, 3, 4, 5, 6, 7, 8, 9, 10]\n",
      "Error handled\n",
      "we have received the result as:  [1, 2, 3, 4, 5, 6, 7, 8, 9, 10]\n",
      "we can't print the list\n",
      "[1, 2, 3, 4, 5, 6, 7, 8, 9, 10]\n",
      "Error handled\n",
      "we have received the result as:  [1, 2, 3, 4, 5, 6, 7, 8, 9, 10]\n",
      "we can't print the list\n",
      "[1, 2, 3, 4, 5, 6, 7, 8, 9, 10]\n",
      "Error handled\n",
      "we have received the result as:  [1, 2, 3, 4, 5, 6, 7, 8, 9, 10]\n"
     ]
    }
   ],
   "source": [
    "a=[1,2,3,4,5,6,7,8,9,10]\n",
    "for x in range(0,10):\n",
    "   try:\n",
    "     print(x[a])\n",
    "   except:\n",
    "       print(\"we can't print the list\")\n",
    "       print(a)\n",
    "   else:\n",
    "       print(\"printing is successful\")\n",
    "   finally:\n",
    "       print(\"Error handled\")\n",
    "       print(\"we have received the result as: \",a)\n",
    "    \n",
    "\n"
   ]
  },
  {
   "cell_type": "code",
   "execution_count": 18,
   "id": "95094f49-bce0-4010-b18d-efb350a4cbd0",
   "metadata": {},
   "outputs": [
    {
     "name": "stdout",
     "output_type": "stream",
     "text": [
      "1\n",
      "Printing is successful\n",
      "Error handled\n",
      "We have received the result as: [1, 2, 3, 4, 5, 6, 7, 8, 9, 10]\n",
      "2\n",
      "Printing is successful\n",
      "Error handled\n",
      "We have received the result as: [1, 2, 3, 4, 5, 6, 7, 8, 9, 10]\n",
      "3\n",
      "Printing is successful\n",
      "Error handled\n",
      "We have received the result as: [1, 2, 3, 4, 5, 6, 7, 8, 9, 10]\n",
      "4\n",
      "Printing is successful\n",
      "Error handled\n",
      "We have received the result as: [1, 2, 3, 4, 5, 6, 7, 8, 9, 10]\n",
      "5\n",
      "Printing is successful\n",
      "Error handled\n",
      "We have received the result as: [1, 2, 3, 4, 5, 6, 7, 8, 9, 10]\n",
      "6\n",
      "Printing is successful\n",
      "Error handled\n",
      "We have received the result as: [1, 2, 3, 4, 5, 6, 7, 8, 9, 10]\n",
      "7\n",
      "Printing is successful\n",
      "Error handled\n",
      "We have received the result as: [1, 2, 3, 4, 5, 6, 7, 8, 9, 10]\n",
      "8\n",
      "Printing is successful\n",
      "Error handled\n",
      "We have received the result as: [1, 2, 3, 4, 5, 6, 7, 8, 9, 10]\n",
      "9\n",
      "Printing is successful\n",
      "Error handled\n",
      "We have received the result as: [1, 2, 3, 4, 5, 6, 7, 8, 9, 10]\n",
      "10\n",
      "Printing is successful\n",
      "Error handled\n",
      "We have received the result as: [1, 2, 3, 4, 5, 6, 7, 8, 9, 10]\n"
     ]
    }
   ],
   "source": [
    "a = [1, 2, 3, 4, 5, 6, 7, 8, 9, 10]\n",
    "\n",
    "for x in range(0, 10):\n",
    "    try:\n",
    "        print(a[x])\n",
    "    except IndexError:\n",
    "        print(\"Index out of range!\")\n",
    "    else:\n",
    "        print(\"Printing is successful\")\n",
    "    finally:\n",
    "        print(\"Error handled\")\n",
    "        print(\"We have received the result as:\", a)\n"
   ]
  },
  {
   "cell_type": "code",
   "execution_count": 27,
   "id": "14ddd298-8eb3-44b2-9691-674b7032a454",
   "metadata": {},
   "outputs": [
    {
     "name": "stdin",
     "output_type": "stream",
     "text": [
      "Enter the index: 10\n"
     ]
    },
    {
     "name": "stdout",
     "output_type": "stream",
     "text": [
      "Index out of range!\n",
      "Error handled\n",
      "we have received the result as:  [1, 2, 3, 4, 5, 6, 7, 8, 9, 10]\n"
     ]
    }
   ],
   "source": [
    "a = [1, 2, 3, 4, 5, 6, 7, 8, 9, 10]\n",
    "i=int(input(\"Enter the index:\"))\n",
    "try:\n",
    "  print(a[i])\n",
    "except:\n",
    "    print(\"Index out of range!\")\n",
    "else:\n",
    "    print(\"index exists\")\n",
    "    print(a)\n",
    "finally:\n",
    "    print(\"Error handled\")\n",
    "print(\"we have received the result as: \",a)\n"
   ]
  },
  {
   "cell_type": "code",
   "execution_count": 30,
   "id": "eb2ee564-7a64-45d5-be5d-f9788983bfd0",
   "metadata": {},
   "outputs": [
    {
     "name": "stdin",
     "output_type": "stream",
     "text": [
      " 3\n",
      " 4\n"
     ]
    },
    {
     "name": "stdout",
     "output_type": "stream",
     "text": [
      "Some Unknown Error Found\n",
      "Code Execution Done\n"
     ]
    }
   ],
   "source": [
    "try:\n",
    "    a=input()\n",
    "    b=input()\n",
    "    c=int(a)+int(b)\n",
    "    x=\"hello\"/3\n",
    "except ValueError:\n",
    "    print(\"Data type issue\")\n",
    "except ZeroDivisionError:\n",
    "    print(\"Can't Divide by Zero\")\n",
    "except :\n",
    "     print(\"Some Unknown Error Found\")\n",
    "else:\n",
    "   print(\"No Error\")\n",
    "finally:\n",
    "    print(\"Code Execution Done\")"
   ]
  },
  {
   "cell_type": "code",
   "execution_count": null,
   "id": "b7fce450-2900-4778-9301-29f4dcd3fd3a",
   "metadata": {},
   "outputs": [],
   "source": []
  }
 ],
 "metadata": {
  "kernelspec": {
   "display_name": "Python 3 (ipykernel)",
   "language": "python",
   "name": "python3"
  },
  "language_info": {
   "codemirror_mode": {
    "name": "ipython",
    "version": 3
   },
   "file_extension": ".py",
   "mimetype": "text/x-python",
   "name": "python",
   "nbconvert_exporter": "python",
   "pygments_lexer": "ipython3",
   "version": "3.12.3"
  }
 },
 "nbformat": 4,
 "nbformat_minor": 5
}
